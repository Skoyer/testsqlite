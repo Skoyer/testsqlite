{
 "cells": [
  {
   "cell_type": "code",
   "execution_count": 10,
   "metadata": {},
   "outputs": [
    {
     "name": "stdout",
     "output_type": "stream",
     "text": [
      "Opened database successfully\n"
     ]
    }
   ],
   "source": [
    "import sqlite3\n",
    "#conn = sqlite3.connect('..\\sampledb\\GettingStartedWithSQL\\weather_stations.db')\n",
    "conn = sqlite3.connect('test.db')\n",
    "cursor = conn.cursor()\n",
    "print(\"Opened database successfully\")"
   ]
  },
  {
   "cell_type": "code",
   "execution_count": 11,
   "metadata": {},
   "outputs": [],
   "source": [
    "cursor.execute('''CREATE TABLE SCHOOL\n",
    "         (ID INT PRIMARY KEY     NOT NULL,\n",
    "         NAME           TEXT    NOT NULL,\n",
    "         AGE            INT     NOT NULL,\n",
    "         ADDRESS        CHAR(50),\n",
    "         MARKS          INT);''')\n",
    "cursor.close()"
   ]
  },
  {
   "cell_type": "code",
   "execution_count": 12,
   "metadata": {},
   "outputs": [],
   "source": [
    "conn.commit()\n",
    "conn.close()"
   ]
  },
  {
   "cell_type": "markdown",
   "metadata": {},
   "source": [
    "# Insert Some Data (assumes import sqlite3 has been run)"
   ]
  },
  {
   "cell_type": "code",
   "execution_count": 13,
   "metadata": {},
   "outputs": [],
   "source": [
    "conn = sqlite3.connect('test.db')\n",
    "cursor = conn.cursor()\n",
    "cursor.execute(\"INSERT INTO SCHOOL (ID,NAME,AGE,ADDRESS,MARKS) \\\n",
    "      VALUES (1, 'Rohan', 14, 'Delhi', 200)\");\n",
    "cursor.execute(\"INSERT INTO SCHOOL (ID,NAME,AGE,ADDRESS,MARKS) \\\n",
    "      VALUES (2, 'Allen', 14, 'Bangalore', 150 )\");\n",
    "cursor.execute(\"INSERT INTO SCHOOL (ID,NAME,AGE,ADDRESS,MARKS) \\\n",
    "      VALUES (3, 'Martha', 15, 'Hyderabad', 200 )\");\n",
    "cursor.execute(\"INSERT INTO SCHOOL (ID,NAME,AGE,ADDRESS,MARKS) \\\n",
    "      VALUES (4, 'Palak', 15, 'Kolkata', 650)\");\n",
    "conn.commit()\n",
    "conn.close()"
   ]
  },
  {
   "cell_type": "code",
   "execution_count": 17,
   "metadata": {},
   "outputs": [
    {
     "name": "stdout",
     "output_type": "stream",
     "text": [
      "ID =  1\n",
      "NAME =  Rohan\n",
      "MARKS =  200 \n",
      "\n",
      "ID =  2\n",
      "NAME =  Allen\n",
      "MARKS =  150 \n",
      "\n",
      "ID =  3\n",
      "NAME =  Martha\n",
      "MARKS =  200 \n",
      "\n",
      "ID =  4\n",
      "NAME =  Palak\n",
      "MARKS =  650 \n",
      "\n"
     ]
    }
   ],
   "source": [
    "conn = sqlite3.connect('test.db')\n",
    "cursor = conn.cursor()\n",
    "for row in cursor.execute(\"SELECT id, name, marks from SCHOOL\"):\n",
    "    print(\"ID = \", row[0])\n",
    "    print(\"NAME = \", row[1])\n",
    "    print(\"MARKS = \", row[2], \"\\n\")\n",
    "conn.commit()\n",
    "conn.close()"
   ]
  },
  {
   "cell_type": "code",
   "execution_count": 22,
   "metadata": {},
   "outputs": [
    {
     "name": "stdout",
     "output_type": "stream",
     "text": [
      "ID =  1\n",
      "NAME =  Rohan\n",
      "MARKS =  Delhi \n",
      "\n",
      "ID =  2\n",
      "NAME =  Allen\n",
      "MARKS =  Bangalore \n",
      "\n",
      "ID =  3\n",
      "NAME =  Martha\n",
      "MARKS =  Hyderabad \n",
      "\n",
      "ID =  4\n",
      "NAME =  Palak\n",
      "MARKS =  Kolkata \n",
      "\n"
     ]
    }
   ],
   "source": [
    "import sqlite3\n",
    "conn = sqlite3.connect('test.db')\n",
    "cursor = conn.cursor()\n",
    "conn.execute(\"UPDATE SCHOOL set MARKS = 250 where ID = 3\")\n",
    "conn.commit()\n",
    "for row in cursor.execute(\"SELECT id, name, address, marks from SCHOOL\"):\n",
    "    print(\"ID = \", row[0])\n",
    "    print(\"NAME = \", row[1])\n",
    "    print(\"MARKS = \", row[2], \"\\n\")\n",
    "conn.commit()\n",
    "conn.close()"
   ]
  },
  {
   "cell_type": "code",
   "execution_count": 25,
   "metadata": {},
   "outputs": [
    {
     "name": "stdout",
     "output_type": "stream",
     "text": [
      "ID =  1\n",
      "NAME =  Rohan\n",
      "MARKS =  Delhi \n",
      "\n",
      "ID =  3\n",
      "NAME =  Martha\n",
      "MARKS =  Hyderabad \n",
      "\n",
      "ID =  4\n",
      "NAME =  Palak\n",
      "MARKS =  Kolkata \n",
      "\n"
     ]
    }
   ],
   "source": [
    "import sqlite3\n",
    "conn = sqlite3.connect('test.db')\n",
    "cursor = conn.cursor()\n",
    "conn.execute(\"DELETE from  SCHOOL where ID = 2\")\n",
    "conn.commit()\n",
    "for row in cursor.execute(\"SELECT id, name, address, marks from SCHOOL\"):\n",
    "    print(\"ID = \", row[0])\n",
    "    print(\"NAME = \", row[1])\n",
    "    print(\"MARKS = \", row[2], \"\\n\")\n",
    "conn.commit()\n",
    "conn.close()"
   ]
  }
 ],
 "metadata": {
  "kernelspec": {
   "display_name": "Python 3",
   "language": "python",
   "name": "python3"
  },
  "language_info": {
   "codemirror_mode": {
    "name": "ipython",
    "version": 3
   },
   "file_extension": ".py",
   "mimetype": "text/x-python",
   "name": "python",
   "nbconvert_exporter": "python",
   "pygments_lexer": "ipython3",
   "version": "3.7.2"
  }
 },
 "nbformat": 4,
 "nbformat_minor": 2
}
